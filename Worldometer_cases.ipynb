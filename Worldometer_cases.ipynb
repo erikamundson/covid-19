{
 "cells": [
  {
   "cell_type": "code",
   "execution_count": null,
   "metadata": {},
   "outputs": [],
   "source": [
    "import matplotlib as mpl\n",
    "%matplotlib inline\n",
    "from worldometer_data import df as worldometer\n",
    "from plotstuff import bar_line\n",
    "from gaussian import plot_gaussian, plot_cdf\n",
    "from gpr import plot_gpr, plot_gpr_sum"
   ]
  },
  {
   "cell_type": "markdown",
   "metadata": {},
   "source": [
    "______________________________________________________________________________________________________________________\n",
    "\n",
    "This Notebook uses a Curve-Fit Gaussian function and a Gaussian Process Regressor to understand/predict COVID-19 cases and deaths. The functions available are: \n",
    "    \n",
    "    bar_line(), which is a simple barplot of actual data as well as a lineplot of the same data to more easily detect trends. \n",
    "    \n",
    "    plot_gaussian(), which fits daily data to a Gaussian, or Probability Density Function, and can be used to attempt to predict cases or deaths into the future based on current trends. The choice of a Gaussian function was based on an intuition of the shape of the data.\n",
    "    \n",
    "    plot_cdf(), which plots a Cumulative Distribution Function, ie the sum of a Gaussian and corresponds to cumulative data such as total cases or total deaths.\n",
    "    \n",
    "    plot_gpr(), which fits daily data into a Gaussian Process Regressor from scikit-learn. This function can also be used to predict cases or deaths into the future, but more intuitively than along a forced function. \n",
    "    \n",
    "    plot_gpr_cdf(), which plots the sum of the Gaussian Process Regressor. I named it plot_gpr_cdf() although it is not a true Cumulative Distribution Function, it only resembles one due to the shape of the data. \n",
    "\n",
    "\n",
    "Calls for bar_line() look like: \n",
    "\n",
    "    bar_line(dataframe, column_name, interval for xticks)\n",
    "Calls for plot_gaussian(), plot_cdf(), plot_gpr(), and plot_gpr_sum() look like:\n",
    "\n",
    "    function(dataframe, column_name, max_range, interval for xticks), where_max range is the number of days since March 1 for the model to predict\n",
    "    \n",
    "    plot_cdf and plot_gpr_sum should take 'Total' columns, as they emulate a Cumulative Distribution Function\n",
    "    \n",
    "IMPORTANT: max_range MUST BE AN INTEGER MULTIPLE OF interval\n",
    "\n",
    "______________________________________________________________________________________________________________________"
   ]
  },
  {
   "cell_type": "code",
   "execution_count": null,
   "metadata": {},
   "outputs": [],
   "source": [
    "bar_line(worldometer, 'New Cases', 10)"
   ]
  },
  {
   "cell_type": "code",
   "execution_count": null,
   "metadata": {},
   "outputs": [],
   "source": [
    "bar_line(worldometer, 'New Deaths', 10)"
   ]
  },
  {
   "cell_type": "markdown",
   "metadata": {},
   "source": [
    "Fitting the data manually:"
   ]
  },
  {
   "cell_type": "code",
   "execution_count": null,
   "metadata": {},
   "outputs": [],
   "source": [
    "#plot_gaussian(worldometer, 'New Cases', 180, 10)"
   ]
  },
  {
   "cell_type": "code",
   "execution_count": null,
   "metadata": {},
   "outputs": [],
   "source": [
    "#plot_gaussian(worldometer, 'New Deaths', 180, 10)"
   ]
  },
  {
   "cell_type": "code",
   "execution_count": null,
   "metadata": {},
   "outputs": [],
   "source": [
    "#plot_cdf(worldometer, 'Total Cases', 'New Cases', 180, 10)"
   ]
  },
  {
   "cell_type": "code",
   "execution_count": null,
   "metadata": {},
   "outputs": [],
   "source": [
    "#plot_cdf(worldometer, 'Total Deaths', 'New Deaths', 180, 10)"
   ]
  },
  {
   "cell_type": "markdown",
   "metadata": {},
   "source": [
    "Fitting data using a Gaussian Regression Process machine learning model:"
   ]
  },
  {
   "cell_type": "code",
   "execution_count": null,
   "metadata": {},
   "outputs": [],
   "source": [
    "plot_gpr(worldometer, 'New Cases', 250, 10)"
   ]
  },
  {
   "cell_type": "code",
   "execution_count": null,
   "metadata": {},
   "outputs": [],
   "source": [
    "plot_gpr(worldometer, 'New Deaths', 250, 10)"
   ]
  },
  {
   "cell_type": "code",
   "execution_count": null,
   "metadata": {},
   "outputs": [],
   "source": [
    "plot_gpr_sum(worldometer, 'Total Cases', 250, 10)"
   ]
  },
  {
   "cell_type": "code",
   "execution_count": null,
   "metadata": {},
   "outputs": [],
   "source": [
    "plot_gpr_sum(worldometer, 'Total Deaths', 250, 10)"
   ]
  },
  {
   "cell_type": "code",
   "execution_count": null,
   "metadata": {},
   "outputs": [],
   "source": []
  }
 ],
 "metadata": {
  "kernelspec": {
   "display_name": "Python 3",
   "language": "python",
   "name": "python3"
  },
  "language_info": {
   "codemirror_mode": {
    "name": "ipython",
    "version": 3
   },
   "file_extension": ".py",
   "mimetype": "text/x-python",
   "name": "python",
   "nbconvert_exporter": "python",
   "pygments_lexer": "ipython3",
   "version": "3.7.7"
  }
 },
 "nbformat": 4,
 "nbformat_minor": 4
}
